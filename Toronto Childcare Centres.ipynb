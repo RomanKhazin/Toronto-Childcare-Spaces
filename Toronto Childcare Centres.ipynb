{
 "cells": [
  {
   "cell_type": "code",
   "execution_count": 1,
   "id": "d9ec5ff6",
   "metadata": {},
   "outputs": [],
   "source": [
    "#This project looks at the availability of different types of childcare in Toronto in 2021.\n",
    "#I lightly clean the data and then focus on the parts which may yield interesting insights.\n",
    "#I was looking to craete a summary of snapshot of childcare availability in Toronto while also looking more deeply at differences between age groups, subsidies, and geography.\n",
    "The data is then visualized in two dashboards I created in Tableau.\n",
    "The first dashboard provides a snapshot of Toronto childcare in January 2022 and can be found at https://public.tableau.com/app/profile/roman.khazin/viz/TorontoChildcare/TorontoChildcareSummary.\n",
    "The second dashboard provides a more detailed picture, breaking down the data by age category. It can be found here: https://public.tableau.com/app/profile/roman.khazin/viz/TorontoChildcareDetailed/Dashboard1\n",
    "#The data for this project is avaialable on the City of Toronto Open Data Portal at \n",
    "import pandas as pd\n",
    "import numpy as np\n",
    "import matplotlib.pyplot as plt"
   ]
  },
  {
   "cell_type": "code",
   "execution_count": 2,
   "id": "5d075178",
   "metadata": {},
   "outputs": [
    {
     "name": "stdout",
     "output_type": "stream",
     "text": [
      "   _id  LOC_ID                                           LOC_NAME  \\\n",
      "0    1    1013              Lakeshore Community Child Care Centre   \n",
      "1    2    1014            Alternative Primary School Parent Group   \n",
      "2    3    1015     Cardinal Leger Child Care Centre (Scarborough)   \n",
      "3    4    1016  George Brown - Richmond Adelaide Childcare Centre   \n",
      "4    5    1017  Woodland Nursery School (Warden Woods Communit...   \n",
      "\n",
      "             AUSPICE            ADDRESS    PCODE  ward               PHONE  \\\n",
      "0  Non Profit Agency     101 SEVENTH ST  M8V 3B5     3      (416) 394-7601   \n",
      "1  Non Profit Agency    1100 SPADINA RD  M5N 2M6     8      (416) 322-5385   \n",
      "2  Non Profit Agency     600 MORRISH RD  M1C 4Y1    25      (416) 287-0578   \n",
      "3  Non Profit Agency  130 ADELAIDE ST W  M5H 3P5    10      (416) 415-2453   \n",
      "4  Non Profit Agency    1 FIRVALLEY CRT  M1L 1N8    20  (416) 694-1138x157   \n",
      "\n",
      "                    bldg_type                         BLDGNAME  IGSPACE  \\\n",
      "0    Public Elementary School     Seventh Street Public School      0.0   \n",
      "1    Public Elementary School  North Preparatory Public School      0.0   \n",
      "2  Catholic Elementary School   Cardinal Leger Catholic School      0.0   \n",
      "3                       Other                              NaN     10.0   \n",
      "4         High Rise Apartment                              NaN      0.0   \n",
      "\n",
      "   TGSPACE  PGSPACE  KGSPACE  SGSPACE  TOTSPACE subsidy run_date  \\\n",
      "0     20.0     32.0     52.0     60.0     164.0       Y  05JAN22   \n",
      "1      0.0     12.0     26.0     45.0      83.0       Y  05JAN22   \n",
      "2     10.0     16.0     26.0     50.0     102.0       Y  05JAN22   \n",
      "3     15.0     40.0      0.0      0.0      65.0       Y  05JAN22   \n",
      "4     10.0     16.0      0.0      0.0      26.0       Y  05JAN22   \n",
      "\n",
      "                                            geometry  \n",
      "0  {u'type': u'Point', u'coordinates': (-79.50419...  \n",
      "1  {u'type': u'Point', u'coordinates': (-79.42037...  \n",
      "2  {u'type': u'Point', u'coordinates': (-79.17546...  \n",
      "3  {u'type': u'Point', u'coordinates': (-79.38381...  \n",
      "4  {u'type': u'Point', u'coordinates': (-79.28102...  \n"
     ]
    }
   ],
   "source": [
    "#Importing Toronto childcare centre data and postal code population data\n",
    "#Column meanings in childcare_centres:\n",
    "#IGSPACE - infant spaces (0-18 months)\n",
    "#TGSPACE - toddler spaces (18-30 months)\n",
    "#PGSPACE - preschoolers spaces (30 months - grade 1)\n",
    "#KGSPACE - kindergarten spaces (kids in full-day kindergarten)\n",
    "#SGSPACE - school spaces (grade 1 and up)\n",
    "#TOTSPACE - total spaces for all age groups\n",
    "\n",
    "childcare_centres = pd.read_csv('C:\\Data Analytics\\Projects\\Toronto Child Care\\child_care_centres.csv')\n",
    "postal_codes = pd.read_csv('C:\\Python\\Toronto Housing\\postal_codes_population.csv')\n",
    "print (childcare_centres.head())"
   ]
  },
  {
   "cell_type": "code",
   "execution_count": 3,
   "id": "8efcde84",
   "metadata": {},
   "outputs": [
    {
     "name": "stdout",
     "output_type": "stream",
     "text": [
      "Empty DataFrame\n",
      "Columns: [_id, LOC_ID, LOC_NAME, AUSPICE, ADDRESS, PCODE, ward, PHONE, bldg_type, BLDGNAME, IGSPACE, TGSPACE, PGSPACE, KGSPACE, SGSPACE, TOTSPACE, subsidy, run_date, geometry]\n",
      "Index: []\n"
     ]
    }
   ],
   "source": [
    "#Checking for duplicates in the LOC_ID column\n",
    "\n",
    "print (childcare_centres[childcare_centres.duplicated(subset=['LOC_ID'])])"
   ]
  },
  {
   "cell_type": "code",
   "execution_count": 4,
   "id": "97e89d65",
   "metadata": {},
   "outputs": [
    {
     "name": "stdout",
     "output_type": "stream",
     "text": [
      "<class 'pandas.core.frame.DataFrame'>\n",
      "RangeIndex: 1034 entries, 0 to 1033\n",
      "Data columns (total 15 columns):\n",
      " #   Column     Non-Null Count  Dtype  \n",
      "---  ------     --------------  -----  \n",
      " 0   _id        1034 non-null   int64  \n",
      " 1   LOC_ID     1034 non-null   int64  \n",
      " 2   LOC_NAME   1034 non-null   object \n",
      " 3   AUSPICE    1034 non-null   object \n",
      " 4   PCODE      1034 non-null   object \n",
      " 5   ward       1034 non-null   int64  \n",
      " 6   bldg_type  1034 non-null   object \n",
      " 7   BLDGNAME   716 non-null    object \n",
      " 8   IGSPACE    1033 non-null   float64\n",
      " 9   TGSPACE    1033 non-null   float64\n",
      " 10  PGSPACE    1033 non-null   float64\n",
      " 11  KGSPACE    1033 non-null   float64\n",
      " 12  SGSPACE    1033 non-null   float64\n",
      " 13  TOTSPACE   1033 non-null   float64\n",
      " 14  subsidy    1034 non-null   object \n",
      "dtypes: float64(6), int64(3), object(6)\n",
      "memory usage: 121.3+ KB\n",
      "None\n"
     ]
    }
   ],
   "source": [
    "#Removing irrelevant columns\n",
    "\n",
    "childcare_centres = childcare_centres.drop(columns=['ADDRESS', 'PHONE', 'run_date', 'geometry'])\n",
    "print (childcare_centres.info())"
   ]
  },
  {
   "cell_type": "code",
   "execution_count": 5,
   "id": "13e1fd3b",
   "metadata": {},
   "outputs": [
    {
     "name": "stdout",
     "output_type": "stream",
     "text": [
      "   _id  LOC_ID                                           LOC_NAME  \\\n",
      "0    1    1013              Lakeshore Community Child Care Centre   \n",
      "1    2    1014            Alternative Primary School Parent Group   \n",
      "2    3    1015     Cardinal Leger Child Care Centre (Scarborough)   \n",
      "3    4    1016  George Brown - Richmond Adelaide Childcare Centre   \n",
      "4    5    1017  Woodland Nursery School (Warden Woods Communit...   \n",
      "\n",
      "             AUSPICE    PCODE  ward                   bldg_type  \\\n",
      "0  Non Profit Agency  M8V 3B5     3    Public Elementary School   \n",
      "1  Non Profit Agency  M5N 2M6     8    Public Elementary School   \n",
      "2  Non Profit Agency  M1C 4Y1    25  Catholic Elementary School   \n",
      "3  Non Profit Agency  M5H 3P5    10                       Other   \n",
      "4  Non Profit Agency  M1L 1N8    20         High Rise Apartment   \n",
      "\n",
      "                          BLDGNAME  IGSPACE  TGSPACE  PGSPACE  KGSPACE  \\\n",
      "0     Seventh Street Public School        0       20       32       52   \n",
      "1  North Preparatory Public School        0        0       12       26   \n",
      "2   Cardinal Leger Catholic School        0       10       16       26   \n",
      "3                              NaN       10       15       40        0   \n",
      "4                              NaN        0       10       16        0   \n",
      "\n",
      "   SGSPACE  TOTSPACE subsidy  \n",
      "0       60       164       Y  \n",
      "1       45        83       Y  \n",
      "2       50       102       Y  \n",
      "3        0        65       Y  \n",
      "4        0        26       Y  \n"
     ]
    }
   ],
   "source": [
    "#Converting the number of spaces columns into integer format instead of a float and filling in empty values with 0\n",
    "\n",
    "childcare_centres = childcare_centres.fillna({'IGSPACE':'0', 'TGSPACE':'0', 'PGSPACE':'0', 'KGSPACE':'0', 'SGSPACE':'0', 'TOTSPACE':'0'})\n",
    "childcare_centres = childcare_centres.astype({'IGSPACE':'int64', 'TGSPACE':'int64', 'PGSPACE':'int64', 'KGSPACE':'int64', 'SGSPACE':'int64', 'TOTSPACE':'int64'})\n",
    "print (childcare_centres.head())"
   ]
  },
  {
   "cell_type": "code",
   "execution_count": 6,
   "id": "74d5aa34",
   "metadata": {},
   "outputs": [
    {
     "name": "stdout",
     "output_type": "stream",
     "text": [
      "AUSPICE\n",
      "Commercial Agency                18653\n",
      "Non Profit Agency                58228\n",
      "Public (City Operated) Agency     2027\n",
      "Name: TOTSPACE, dtype: int64\n"
     ]
    }
   ],
   "source": [
    "#Counting the number of spaces by the type of auspice\n",
    "\n",
    "auspices = childcare_centres.groupby('AUSPICE').TOTSPACE.sum()\n",
    "auspices.to_csv('C:\\Data Analytics\\Projects\\Toronto Child Care\\childcare_auspices.csv')\n",
    "print (auspices)"
   ]
  },
  {
   "cell_type": "code",
   "execution_count": 7,
   "id": "67b89d90",
   "metadata": {},
   "outputs": [
    {
     "name": "stdout",
     "output_type": "stream",
     "text": [
      "subsidy\n",
      "N    17329\n",
      "Y    61579\n",
      "Name: TOTSPACE, dtype: int64\n"
     ]
    }
   ],
   "source": [
    "#Comparing the number of spaces that are subsidized vs unsubsidized\n",
    "\n",
    "subsidies = childcare_centres.groupby('subsidy').TOTSPACE.sum()\n",
    "subsidies.to_csv('C:\\Data Analytics\\Projects\\Toronto Child Care\\childcare_subsidies.csv')\n",
    "print (subsidies)"
   ]
  },
  {
   "cell_type": "code",
   "execution_count": 8,
   "id": "dd204894",
   "metadata": {},
   "outputs": [
    {
     "name": "stdout",
     "output_type": "stream",
     "text": [
      "             AUSPICE  IGSPACE  TGSPACE  PGSPACE  KGSPACE  SGSPACE\n",
      "0  Non Profit Agency        0       20       32       52       60\n",
      "1  Non Profit Agency        0        0       12       26       45\n",
      "2  Non Profit Agency        0       10       16       26       50\n",
      "3  Non Profit Agency       10       15       40        0        0\n",
      "4  Non Profit Agency        0       10       16        0        0\n"
     ]
    }
   ],
   "source": [
    "#Selecting columns for a more detailed analysis by auspice\n",
    "\n",
    "auspice_detail = childcare_centres[['AUSPICE','IGSPACE', 'TGSPACE', 'PGSPACE', 'KGSPACE', 'SGSPACE']]\n",
    "print (auspice_detail.head())"
   ]
  },
  {
   "cell_type": "code",
   "execution_count": 9,
   "id": "52597891",
   "metadata": {},
   "outputs": [
    {
     "name": "stdout",
     "output_type": "stream",
     "text": [
      "                               IGSPACE  TGSPACE  PGSPACE  KGSPACE  SGSPACE\n",
      "AUSPICE                                                                   \n",
      "Commercial Agency                 1479     4390     9296     1266     2222\n",
      "Non Profit Agency                 2138     6218    14175    13808    21889\n",
      "Public (City Operated) Agency      372      545      920       85      105\n"
     ]
    }
   ],
   "source": [
    "#Counting the number of spaces by auspice, broken down by age group\n",
    "\n",
    "auspice_detail_grouped = auspice_detail.groupby('AUSPICE').sum()\n",
    "auspice_detail_grouped.to_csv('C:\\Data Analytics\\Projects\\Toronto Child Care\\childcare_auspices_detailed.csv')\n",
    "print (auspice_detail_grouped)"
   ]
  },
  {
   "cell_type": "code",
   "execution_count": 10,
   "id": "98fc6f7a",
   "metadata": {},
   "outputs": [
    {
     "name": "stdout",
     "output_type": "stream",
     "text": [
      "AUSPICE  Commercial Agency  Non Profit Agency  Public (City Operated) Agency\n",
      "IGSPACE               1479               2138                            372\n",
      "KGSPACE               1266              13808                             85\n",
      "PGSPACE               9296              14175                            920\n",
      "SGSPACE               2222              21889                            105\n",
      "TGSPACE               4390               6218                            545\n"
     ]
    }
   ],
   "source": [
    "#Pivoting the previous table for greater usability and potential to create different visualizations\n",
    "\n",
    "auspice_detail_pivot = pd.pivot_table(auspice_detail_grouped, columns='AUSPICE')\n",
    "auspice_detail_pivot.to_csv('C:\\Data Analytics\\Projects\\Toronto Child Care\\childcare_auspices_detailed_pivot.csv')\n",
    "print (auspice_detail_pivot)"
   ]
  },
  {
   "cell_type": "code",
   "execution_count": 11,
   "id": "4ba32ebc",
   "metadata": {},
   "outputs": [
    {
     "name": "stdout",
     "output_type": "stream",
     "text": [
      "         IGSPACE  TGSPACE  PGSPACE  KGSPACE  SGSPACE\n",
      "subsidy                                             \n",
      "N           1058     4166     9501     1133     1471\n",
      "Y           2931     6987    14890    14026    22745\n"
     ]
    }
   ],
   "source": [
    "#Selecting and grouping the number of spaces by subsidy, broken down by age group\n",
    "\n",
    "subsidy_detail = childcare_centres[['subsidy','IGSPACE', 'TGSPACE', 'PGSPACE', 'KGSPACE', 'SGSPACE']]\n",
    "subsidy_detail_grouped = subsidy_detail.groupby('subsidy').sum()\n",
    "subsidy_detail_grouped.to_csv('C:\\Data Analytics\\Projects\\Toronto Child Care\\childcare_subsidy_detailed.csv')\n",
    "print (subsidy_detail_grouped)"
   ]
  },
  {
   "cell_type": "code",
   "execution_count": 12,
   "id": "ed5f8488",
   "metadata": {},
   "outputs": [
    {
     "name": "stdout",
     "output_type": "stream",
     "text": [
      "subsidy     N      Y\n",
      "IGSPACE  1058   2931\n",
      "KGSPACE  1133  14026\n",
      "PGSPACE  9501  14890\n",
      "SGSPACE  1471  22745\n",
      "TGSPACE  4166   6987\n"
     ]
    }
   ],
   "source": [
    "#Pivoting the previous table\n",
    "\n",
    "subsidy_detail_pivot = pd.pivot_table(subsidy_detail_grouped, columns='subsidy')\n",
    "print (subsidy_detail_pivot)"
   ]
  },
  {
   "cell_type": "code",
   "execution_count": 13,
   "id": "d9248aa6",
   "metadata": {},
   "outputs": [
    {
     "name": "stdout",
     "output_type": "stream",
     "text": [
      "subsidy     N      Y  pct_subsidized\n",
      "IGSPACE  1058   2931            73.5\n",
      "KGSPACE  1133  14026            92.5\n",
      "PGSPACE  9501  14890            61.0\n",
      "SGSPACE  1471  22745            93.9\n",
      "TGSPACE  4166   6987            62.6\n"
     ]
    }
   ],
   "source": [
    "#Calculating the percentage of spaces that are subsidized in each age group\n",
    "\n",
    "subsidy_detail_pivot['pct_subsidized'] = subsidy_detail_pivot['Y']/(subsidy_detail_pivot['Y']+subsidy_detail_pivot['N'])*100\n",
    "subsidy_detail_pivot['pct_subsidized'] = subsidy_detail_pivot.pct_subsidized.round(1)\n",
    "subsidy_detail_pivot.to_csv('C:\\Data Analytics\\Projects\\Toronto Child Care\\childcare_subsidy_detailed_pivot.csv')\n",
    "print (subsidy_detail_pivot)"
   ]
  },
  {
   "cell_type": "code",
   "execution_count": 14,
   "id": "0ed02fe8",
   "metadata": {},
   "outputs": [
    {
     "name": "stdout",
     "output_type": "stream",
     "text": [
      "ward\n",
      "1     2112\n",
      "2     3439\n",
      "3     5042\n",
      "4     4312\n",
      "5     2290\n",
      "6     3390\n",
      "7     2508\n",
      "8     4073\n",
      "9     3145\n",
      "10    2987\n",
      "11    3461\n",
      "12    3697\n",
      "13    2090\n",
      "14    4851\n",
      "15    3839\n",
      "16    3467\n",
      "17    3683\n",
      "18    2452\n",
      "19    4482\n",
      "20    2451\n",
      "21    2169\n",
      "22    2403\n",
      "23    1935\n",
      "24    2781\n",
      "25    1849\n",
      "Name: TOTSPACE, dtype: int64\n"
     ]
    }
   ],
   "source": [
    "#Calculating the number of spaces in each city ward\n",
    "\n",
    "spaces_by_ward = childcare_centres.groupby('ward').TOTSPACE.sum()\n",
    "print (spaces_by_ward)"
   ]
  },
  {
   "cell_type": "code",
   "execution_count": 15,
   "id": "7674f25f",
   "metadata": {},
   "outputs": [
    {
     "name": "stdout",
     "output_type": "stream",
     "text": [
      "  PCODE  TOTSPACE\n",
      "0    M1     13588\n",
      "1    M2      7477\n",
      "2    M3      7958\n",
      "3    M4     16089\n",
      "4    M5      8015\n",
      "5    M6     14008\n",
      "6    M7        88\n",
      "7    M8      4593\n",
      "8    M9      7092\n"
     ]
    }
   ],
   "source": [
    "#Calculating the number of spots by postal code, taken as the first letter and digit \n",
    "\n",
    "childcare_centres['PCODE'] = childcare_centres.PCODE.str.extract('(M.)')\n",
    "spaces_by_postcode = childcare_centres.groupby('PCODE').TOTSPACE.sum().reset_index()\n",
    "print (spaces_by_postcode)"
   ]
  },
  {
   "cell_type": "code",
   "execution_count": 16,
   "id": "6dffd206",
   "metadata": {},
   "outputs": [
    {
     "name": "stdout",
     "output_type": "stream",
     "text": [
      "  PCODE  TOTSPACE\n",
      "0    M1     13588\n",
      "1    M2      7477\n",
      "2    M3      7958\n",
      "3    M4     16089\n",
      "4    M5      8015\n",
      "5    M6     14008\n",
      "7    M8      4593\n",
      "8    M9      7092\n"
     ]
    }
   ],
   "source": [
    "#Removing the M7 postal code row as it is a legislative building and irrelevant to the analysis\n",
    "\n",
    "spaces_by_postcode = spaces_by_postcode.drop(spaces_by_postcode.index[6])\n",
    "print (spaces_by_postcode)"
   ]
  },
  {
   "cell_type": "code",
   "execution_count": 17,
   "id": "b288a94a",
   "metadata": {},
   "outputs": [
    {
     "name": "stdout",
     "output_type": "stream",
     "text": [
      "  Geographic_code Geographic name      Province or territory  \\\n",
      "0               1          Canada                        NaN   \n",
      "1             A0A             A0A  Newfoundland and Labrador   \n",
      "2             A0B             A0B  Newfoundland and Labrador   \n",
      "3             A0C             A0C  Newfoundland and Labrador   \n",
      "4             A0E             A0E  Newfoundland and Labrador   \n",
      "\n",
      "  Incompletely enumerated Indian reserves and Indian settlements, 2016  \\\n",
      "0                                                  T                     \n",
      "1                                                NaN                     \n",
      "2                                                NaN                     \n",
      "3                                                NaN                     \n",
      "4                                                NaN                     \n",
      "\n",
      "   Population  Total_private_dwellings  \\\n",
      "0  35151728.0               15412443.0   \n",
      "1     46587.0                  26155.0   \n",
      "2     19792.0                  13658.0   \n",
      "3     12587.0                   8010.0   \n",
      "4     22294.0                  12293.0   \n",
      "\n",
      "   Private dwellings occupied by usual residents, 2016  \n",
      "0                                         14072079.0    \n",
      "1                                            19426.0    \n",
      "2                                             8792.0    \n",
      "3                                             5606.0    \n",
      "4                                             9603.0    \n"
     ]
    }
   ],
   "source": [
    "#Looking at the population by postal code dataset\n",
    "\n",
    "print (postal_codes.head())"
   ]
  },
  {
   "cell_type": "code",
   "execution_count": 18,
   "id": "f16ef97c",
   "metadata": {},
   "outputs": [
    {
     "name": "stdout",
     "output_type": "stream",
     "text": [
      "  Geographic_code  Population\n",
      "0              M1    634047.0\n",
      "1              M2    275211.0\n",
      "2              M3    238916.0\n",
      "3              M4    436223.0\n",
      "4              M5    261749.0\n",
      "5              M6    461368.0\n",
      "6              M7        20.0\n",
      "7              M8    107773.0\n",
      "8              M9    316832.0\n",
      "9              MA         0.0\n"
     ]
    }
   ],
   "source": [
    "#Calculating the population by postal code\n",
    "\n",
    "postal_codes['Geographic_code'] = postal_codes.Geographic_code.str.extract('(M.)')\n",
    "postcode_population = postal_codes.groupby('Geographic_code').Population.sum().reset_index()\n",
    "print (postcode_population)"
   ]
  },
  {
   "cell_type": "code",
   "execution_count": 19,
   "id": "7d6408cf",
   "metadata": {},
   "outputs": [
    {
     "name": "stdout",
     "output_type": "stream",
     "text": [
      "  Geographic_code  Population\n",
      "0              M1      634047\n",
      "1              M2      275211\n",
      "2              M3      238916\n",
      "3              M4      436223\n",
      "4              M5      261749\n",
      "5              M6      461368\n",
      "7              M8      107773\n",
      "8              M9      316832\n"
     ]
    }
   ],
   "source": [
    "#Converting the population column to an integer type from a float and dropping the M7 and MA postal codes\n",
    "\n",
    "postcode_population = postcode_population.astype({'Population':'int64'})\n",
    "postcode_population = postcode_population.drop(postcode_population.index[[6, 9]])\n",
    "print (postcode_population)"
   ]
  },
  {
   "cell_type": "code",
   "execution_count": 20,
   "id": "b3c6c1ac",
   "metadata": {},
   "outputs": [
    {
     "name": "stdout",
     "output_type": "stream",
     "text": [
      "  PCODE  TOTSPACE Geographic_code  Population\n",
      "0    M1     13588              M1      634047\n",
      "1    M2      7477              M2      275211\n",
      "2    M3      7958              M3      238916\n",
      "3    M4     16089              M4      436223\n",
      "4    M5      8015              M5      261749\n",
      "5    M6     14008              M6      461368\n",
      "6    M8      4593              M8      107773\n",
      "7    M9      7092              M9      316832\n"
     ]
    }
   ],
   "source": [
    "#Joining the postal code population and childcare spaces tables\n",
    "\n",
    "all_postcode = pd.merge(spaces_by_postcode, postcode_population, left_on='PCODE', right_on='Geographic_code')\n",
    "print (all_postcode)"
   ]
  },
  {
   "cell_type": "code",
   "execution_count": 21,
   "id": "54eea2db",
   "metadata": {},
   "outputs": [
    {
     "name": "stdout",
     "output_type": "stream",
     "text": [
      "  PCODE  TOTSPACE  Population  spaces_per_100k\n",
      "0    M1     13588      634047             2143\n",
      "1    M2      7477      275211             2716\n",
      "2    M3      7958      238916             3330\n",
      "3    M4     16089      436223             3688\n",
      "4    M5      8015      261749             3062\n",
      "5    M6     14008      461368             3036\n",
      "6    M8      4593      107773             4261\n",
      "7    M9      7092      316832             2238\n"
     ]
    }
   ],
   "source": [
    "#Cleaning up the previous table and calculating the number of spaces per 100k residents by postal code\n",
    "\n",
    "all_postcode = all_postcode.drop(columns=['Geographic_code'])\n",
    "all_postcode['spaces_per_100k'] = all_postcode['TOTSPACE']/all_postcode['Population']*100000\n",
    "all_postcode = all_postcode.astype({'spaces_per_100k':'int64'})\n",
    "all_postcode.to_csv('C:\\Data Analytics\\Projects\\Toronto Child Care\\childcare_postcodes.csv')\n",
    "print (all_postcode)"
   ]
  }
 ],
 "metadata": {
  "kernelspec": {
   "display_name": "Python 3 (ipykernel)",
   "language": "python",
   "name": "python3"
  },
  "language_info": {
   "codemirror_mode": {
    "name": "ipython",
    "version": 3
   },
   "file_extension": ".py",
   "mimetype": "text/x-python",
   "name": "python",
   "nbconvert_exporter": "python",
   "pygments_lexer": "ipython3",
   "version": "3.9.1"
  }
 },
 "nbformat": 4,
 "nbformat_minor": 5
}
